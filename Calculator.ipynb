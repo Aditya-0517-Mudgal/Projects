{
 "cells": [
  {
   "cell_type": "code",
   "execution_count": 1,
   "id": "a0d9c14c",
   "metadata": {},
   "outputs": [],
   "source": [
    "k=0\n",
    "f=0"
   ]
  },
  {
   "cell_type": "code",
   "execution_count": 5,
   "id": "9c647fdc",
   "metadata": {},
   "outputs": [
    {
     "name": "stdout",
     "output_type": "stream",
     "text": [
      "Enter a valid number : 12\n",
      "Enter any valid operator (+,-,*,/,%.**) : d\n",
      "Operator invalid!! Enter any valid operator (+,-,*,/,%.**) : +\n",
      "Enter a valid number : w\n",
      "invalid literal for int() with base 10: 'w'\n",
      "Number invalid!! Enter a valid number : w\n",
      "invalid literal for int() with base 10: 'w'\n",
      "Number invalid!! Enter a valid number : 3\n",
      "The sum is : 15\n",
      "Continue?(Y/N)Y\n",
      "Enter any valid operator (+,-,*,/,%.**) : i\n",
      "Operator invalid!! Enter any valid operator (+,-,*,/,%.**) : -\n",
      "Enter a valid number : d\n",
      "invalid literal for int() with base 10: 'd'\n",
      "Number invalid!! Enter a valid number : 2\n",
      "The difference is : 13\n",
      "Continue?(Y/N)N\n",
      "Fresh Start or Close?(1/2)1\n",
      "Enter a valid number : 2\n",
      "Enter any valid operator (+,-,*,/,%.**) : *\n",
      "Enter a valid number : 4\n",
      "The product is : 8\n",
      "Continue?(Y/N)N\n",
      "Fresh Start or Close?(1/2)1\n",
      "Enter a valid number : 2\n",
      "Enter any valid operator (+,-,*,/,%.**) : **\n",
      "Enter a valid number : 10\n",
      "The exponent is : 1024\n",
      "Continue?(Y/N)N\n",
      "Fresh Start or Close?(1/2)2\n"
     ]
    }
   ],
   "source": [
    "while True:\n",
    "    if k==0:\n",
    "        while True:\n",
    "            d1=input(\"Enter a valid number : \")\n",
    "            try:\n",
    "                d1=int(d1)\n",
    "            except Exception as e1:\n",
    "                print(e1)\n",
    "            finally:\n",
    "                if type(d1)==int:\n",
    "                    break\n",
    "                print(\"Number invalid!!\",end=\" \")\n",
    "    while True:\n",
    "        o=input(\"Enter any valid operator (+,-,*,/,%.**) : \")\n",
    "        if o==\"+\" or o==\"-\" or o==\"*\" or o==\"/\" or o==\"%\" or o==\"**\":\n",
    "            break\n",
    "        print(\"Operator invalid!!\",end=\" \")\n",
    "    while True:\n",
    "        d2=input(\"Enter a valid number : \")\n",
    "        try:\n",
    "            d2=int(d2)\n",
    "        except Exception as e2:\n",
    "            print(e2)\n",
    "        finally:\n",
    "            if type(d2)==int:\n",
    "                break\n",
    "            print(\"Number invalid!!\",end=\" \")\n",
    "    if o==\"+\":\n",
    "        f=d1+d2\n",
    "        print(\"The sum is : \",end=\"\")\n",
    "    elif o==\"-\":\n",
    "        f=d1-d2\n",
    "        print(\"The difference is : \",end=\"\")\n",
    "    elif o==\"*\":\n",
    "        f=d1*d2\n",
    "        print(\"The product is : \",end=\"\")\n",
    "    elif o==\"/\":\n",
    "        f=d1/d2\n",
    "        print(\"The quotient is : \",end=\"\")\n",
    "    elif o==\"%\":\n",
    "        f=d1%d2\n",
    "        print(\"The remainder is : \",end=\"\")\n",
    "    elif o==\"**\":\n",
    "        f=d1**d2\n",
    "        print(\"The exponent is : \",end=\"\")\n",
    "    print(f)\n",
    "    c=input(\"Continue?(Y/N)\")\n",
    "    if c==\"Y\":\n",
    "        k=1\n",
    "        d1=f\n",
    "    elif c==\"N\":\n",
    "        e=input(\"Fresh Start or Close?(1/2)\")\n",
    "        if e==\"1\":\n",
    "            k=0\n",
    "        elif e==\"2\":\n",
    "            break"
   ]
  },
  {
   "cell_type": "code",
   "execution_count": null,
   "id": "9b73375a",
   "metadata": {},
   "outputs": [],
   "source": []
  }
 ],
 "metadata": {
  "kernelspec": {
   "display_name": "Python 3 (ipykernel)",
   "language": "python",
   "name": "python3"
  },
  "language_info": {
   "codemirror_mode": {
    "name": "ipython",
    "version": 3
   },
   "file_extension": ".py",
   "mimetype": "text/x-python",
   "name": "python",
   "nbconvert_exporter": "python",
   "pygments_lexer": "ipython3",
   "version": "3.9.7"
  }
 },
 "nbformat": 4,
 "nbformat_minor": 5
}
